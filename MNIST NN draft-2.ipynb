{
 "cells": [
  {
   "cell_type": "markdown",
   "metadata": {},
   "source": [
    "# Imports & Load Data"
   ]
  },
  {
   "cell_type": "code",
   "execution_count": 99,
   "metadata": {},
   "outputs": [],
   "source": [
    "import matplotlib.pyplot as plt\n",
    "import torch\n",
    "import torch.nn as nn\n",
    "from torch.utils.data import DataLoader\n",
    "import numpy as np"
   ]
  },
  {
   "cell_type": "markdown",
   "metadata": {},
   "source": [
    "# Prepare Dataset"
   ]
  },
  {
   "cell_type": "code",
   "execution_count": 126,
   "metadata": {},
   "outputs": [],
   "source": [
    "import gzip, pickle\n",
    "with gzip.open(\"mnist_2_vs_9.gz\") as f:\n",
    "    data = pickle.load(f, encoding=\"bytes\")\n",
    "    Xtrain, Ytrain, Xtest, Ytest, Xdev, Ydev = \\\n",
    "        data[b\"Xtrain\"], data[b\"Ytrain\"], data[b\"Xtest\"], \\\n",
    "        data[b\"Ytest\"], data[b\"Xdev\"], data[b\"Ydev\"]\n",
    "\n",
    "# Preparing Training Dataset\n",
    "Xtrain = torch.tensor(Xtrain)\n",
    "Ytrain = torch.tensor(Ytrain)\n",
    "train = torch.utils.data.TensorDataset(Xtrain, Ytrain)\n",
    "train_loader = DataLoader(train, batch_size = 64, shuffle = False)\n",
    "\n",
    "# Preparing Validation Dataset\n",
    "Xdev = torch.tensor(Xdev)\n",
    "Ydev = torch.tensor(Ydev)\n",
    "dev = torch.utils.data.TensorDataset(Xdev, Ydev)\n",
    "dev_loader = DataLoader(dev, batch_size = 64, shuffle = False)\n",
    "\n",
    "# Preparing Test Dataset\n",
    "Xtest = torch.tensor(Xtest)\n",
    "Ytest = torch.tensor(Ytest)\n",
    "test = torch.utils.data.TensorDataset(Xtest, Ytest)\n",
    "test_loader = DataLoader(test, batch_size=64 ,shuffle = False)\n",
    "\n",
    "\n",
    "# train_loader is like a dictionary like this:\n",
    "# [ \n",
    "#   [batch 1 : [features, labels] ] \n",
    "#   [batch 2 : [features, labels] ] \n",
    "#   [etc.,                        ] ]"
   ]
  },
  {
   "cell_type": "markdown",
   "metadata": {},
   "source": [
    "# Define Network"
   ]
  },
  {
   "cell_type": "code",
   "execution_count": 127,
   "metadata": {},
   "outputs": [],
   "source": [
    "# Define Class Network for ANN\n",
    "class Network(nn.Module):\n",
    "\t\n",
    "\tdef __init__(self):\n",
    "\t\tsuper(Network, self).__init__()\n",
    "\t\tself.fc1 = nn.Linear(784, 100) # 784 input neurons to 100 hidden neurons.\n",
    "\t\tself.fc2 = nn.Linear(100, 2) # 100 hidden neurons to 2 output neurons.\n",
    "\t\tself.drop = nn.Dropout(p=0.5) # probability that a neuron will be zeroed.\n",
    "\n",
    "\tdef forward(self, x):\n",
    "\t\tx = self.fc1(x) # linear transformation of input layer.\n",
    "\t\tx = self.drop(x) # drop neurons at random. (useful for regularization in case of many layers)\n",
    "\t\tx = torch.sigmoid(x) # Activation of input layer.\n",
    "\t\tx = self.fc2(x) # linear transformation of hidden-layer to output.\n",
    "\t\treturn x\n",
    "\n",
    "# Initialize Network Object\n",
    "model = Network()\n",
    "\n",
    "# Loss Object\n",
    "error = nn.CrossEntropyLoss()\n",
    "\n",
    "learning_rate = 0.002\n",
    "epochs = 100 # cycles of forward & backprop.\n",
    "optimizer = torch.optim.SGD(model.parameters(), lr=learning_rate)"
   ]
  },
  {
   "cell_type": "markdown",
   "metadata": {},
   "source": [
    "# Train the Network"
   ]
  },
  {
   "cell_type": "code",
   "execution_count": 128,
   "metadata": {},
   "outputs": [
    {
     "name": "stdout",
     "output_type": "stream",
     "text": [
      "epoch: 0  Loss: 0.6877  Accuracy: 75.243 %\n",
      "epoch: 10  Loss: 0.4236  Accuracy: 96.925 %\n",
      "epoch: 20  Loss: 0.2217  Accuracy: 96.976 %\n",
      "epoch: 30  Loss: 0.1482  Accuracy: 97.283 %\n",
      "epoch: 40  Loss: 0.1162  Accuracy: 97.540 %\n",
      "epoch: 50  Loss: 0.0979  Accuracy: 97.642 %\n",
      "epoch: 60  Loss: 0.0870  Accuracy: 97.693 %\n",
      "epoch: 70  Loss: 0.0793  Accuracy: 97.796 %\n",
      "epoch: 80  Loss: 0.0738  Accuracy: 98.104 %\n",
      "epoch: 90  Loss: 0.0697  Accuracy: 98.104 %\n"
     ]
    }
   ],
   "source": [
    "training_loss = []\n",
    "validation_loss = []\n",
    "train_zero_one = []\n",
    "val_zero_one = []\n",
    "iterations = []\n",
    "count=0\n",
    "\n",
    "for epoch in range(epochs):\n",
    "\n",
    "    # Training will run for epoch = 100 cycles.\n",
    "    # Each cycle consists of all batches in the training set.\n",
    "    # For each batch, we perform forward and back propagation to compute loss and update parameters.\n",
    "    \n",
    "    train_batch_loss = []\n",
    "    correct = 0\n",
    "    total = 0\n",
    "    \n",
    "    for i, (features, labels) in enumerate(train_loader):\n",
    "    \n",
    "        '''     i                         -> Batch number\n",
    "                features                  -> Training features\n",
    "                labels                    -> Training labels.\n",
    "                train_loader              -> Tensor dataset with all batches.\n",
    "                epochs                    -> 100\n",
    "                batch_size                -> 64\n",
    "                number of batches         -> 155\n",
    "                Total training examples   -> 9956\n",
    "                Model                     -> ANN with 1 hidden layer(s).\n",
    "                Activation                -> Sigmoid.\n",
    "                LOSS                      -> Cross Entropy Loss Function.\n",
    "                Learning_rate             -> 0.001                          '''\n",
    "        \n",
    "        # clear gradients\n",
    "        optimizer.zero_grad()\n",
    "    \n",
    "        # forward pass\n",
    "        predicted = model(features)\n",
    "        \n",
    "        correct += (torch.max(predicted.data, 1)[1] == labels).sum()\n",
    "        total += len(labels)\n",
    "    \n",
    "        # calculate loss\n",
    "        loss = error(predicted, labels)\n",
    "        train_batch_loss.append(loss.data)\n",
    "    \n",
    "        # backward pass\n",
    "        loss.backward()\n",
    "    \n",
    "        # update parameters\n",
    "        optimizer.step()\n",
    "        \n",
    "        count += 1\n",
    "    \n",
    "    # for each epoch(cycle) of training, predict validation set to test the network & choose optimal hyperparameters.\n",
    "    \n",
    "    val_correct = 0\n",
    "    val_total = 0\n",
    "    val_batch_loss = []\n",
    "    \n",
    "    for val_features, val_labels in dev_loader:\n",
    "        \n",
    "        # Forward propagation\n",
    "        outputs = model(val_features)\n",
    "        \n",
    "        # calculate loss for validation set\n",
    "        val_batch_loss.append(error(outputs, val_labels).data)\n",
    "        \n",
    "        # Get predictions from the maximum value.\n",
    "        val_pred = torch.max(outputs.data, 1)[1]\n",
    "        \n",
    "        ''' * outputs.data will have the values(weights[0] & labels[1]) of neurons in the output layer. \n",
    "                i.e., the predictions for each neuron.\n",
    "            * torch.max() returns the maximum value(i.e., the max. probability) of a neuron.\n",
    "            * torch.max(x, 1) returns the maximum value accross all features(or neurons) in a training example \n",
    "                as the prediction class for that record.\n",
    "            * example here the output layer consists of 2 neurons, \n",
    "            * so for an example, it'll generate the max value of those 2 as the predicted class and weights. '''\n",
    "        \n",
    "        # Total number of labels\n",
    "        val_total += len(val_labels) # adding len(labels) from each batch\n",
    "        \n",
    "        # Total correct predictions\n",
    "        val_correct += (val_pred == val_labels).sum()\n",
    "        \n",
    "    accuracy = 100 * correct / float(total) # accuracy for train.\n",
    "    val_accuracy = 100 * val_correct / float(val_total) # accuracy for validation.\n",
    "    \n",
    "    # append required values for plot\n",
    "    training_loss.append(np.mean(train_batch_loss))\n",
    "    validation_loss.append(np.mean(val_batch_loss))\n",
    "    train_zero_one.append(100-accuracy)\n",
    "    val_zero_one.append(100-val_accuracy)\n",
    "    iterations.append(count)\n",
    "    \n",
    "    # for every 10 epoch cycles, Print Training Loss & Accuracy of validation set.\n",
    "    if epoch % 10 == 0:\n",
    "        print('epoch: {}  Loss: {:.4f}  Accuracy: {:.3f} %'.format(epoch, np.mean(train_batch_loss), val_accuracy))\n"
   ]
  },
  {
   "cell_type": "markdown",
   "metadata": {},
   "source": [
    "# Plots"
   ]
  },
  {
   "cell_type": "code",
   "execution_count": 132,
   "metadata": {},
   "outputs": [
    {
     "data": {
      "image/png": "[encoded data removed]",
      "text/plain": [
       "<Figure size 432x288 with 1 Axes>"
      ]
     },
     "metadata": {
      "needs_background": "light"
     },
     "output_type": "display_data"
    },
    {
     "data": {
      "image/png": "[encoded data removed]",
      "text/plain": [
       "<Figure size 432x288 with 1 Axes>"
      ]
     },
     "metadata": {
      "needs_background": "light"
     },
     "output_type": "display_data"
    }
   ],
   "source": [
    "# visualize Cross Entropy loss \n",
    "plt.plot(iterations, training_loss, color = \"red\", label = \"Training error\")\n",
    "plt.plot(iterations, validation_loss, color = \"green\", label = \"Validation error\")\n",
    "plt.legend()\n",
    "plt.xlabel(\"Number of iterations\")\n",
    "plt.ylabel(\"Cross Entropy Loss\")\n",
    "plt.title(\"ANN: Number of iterations vs Cross Entropy Loss\")\n",
    "plt.show()\n",
    "\n",
    "\n",
    "# visualize Zero-one Loss\n",
    "plt.plot(iterations[5:], train_zero_one[5:], color = \"red\", label = \"Training error\") \n",
    "plt.plot(iterations[5:], val_zero_one[5:], color = \"green\", label = \"Validation error\")\n",
    "plt.legend()\n",
    "plt.xlabel(\"Number of iterations\")\n",
    "plt.ylabel(\"Zero One Loss (%)\")\n",
    "plt.title(\"ANN: Number of iterations vs Zero One Loss\")\n",
    "plt.show()\n"
   ]
  },
  {
   "cell_type": "markdown",
   "metadata": {},
   "source": [
    "# Predict Test Data"
   ]
  },
  {
   "cell_type": "code",
   "execution_count": 134,
   "metadata": {},
   "outputs": [
    {
     "name": "stdout",
     "output_type": "stream",
     "text": [
      "Test error: 0.0630   Test Accuracy: 98.089 %\n"
     ]
    }
   ],
   "source": [
    "# Predicting Test Data\n",
    "tot = crt = acc = test_loss = count = 0\n",
    "test_loss = []\n",
    "for features, labels in test_loader:\n",
    "    output = model(features)\n",
    "    test_loss.append(error(output, labels).data)\n",
    "    predicted = torch.max(output.data, 1)[1]\n",
    "    tot += len(labels)\n",
    "    crt += (predicted == labels).sum()\n",
    "    count += 1\n",
    "\n",
    "#avg_loss = test_loss / count\n",
    "acc = 100 * crt / float(tot)\n",
    "print(\"Test error: {:.4f}   Test Accuracy: {:.3f} %\".format(np.mean(test_loss), acc))"
   ]
  }
 ],
 "metadata": {
  "kernelspec": {
   "display_name": "Python 3.9.7 ('base')",
   "language": "python",
   "name": "python3"
  },
  "language_info": {
   "codemirror_mode": {
    "name": "ipython",
    "version": 3
   },
   "file_extension": ".py",
   "mimetype": "text/x-python",
   "name": "python",
   "nbconvert_exporter": "python",
   "pygments_lexer": "ipython3",
   "version": "3.9.7"
  },
  "orig_nbformat": 4,
  "vscode": {
   "interpreter": {
    "hash": "3d7d9ac54bf76cc39eb49b9f1ecf926c6787e86c2a5e76c485bdd32284c11a5e"
   }
  }
 },
 "nbformat": 4,
 "nbformat_minor": 2
}

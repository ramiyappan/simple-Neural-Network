{
 "cells": [
  {
   "cell_type": "markdown",
   "metadata": {},
   "source": [
    "# Imports & Load Data"
   ]
  },
  {
   "cell_type": "code",
   "execution_count": 83,
   "metadata": {},
   "outputs": [],
   "source": [
    "import matplotlib.pyplot as plt\n",
    "import torch\n",
    "import torch.nn as nn\n",
    "from torch.utils.data import DataLoader\n",
    "from sklearn.metrics import zero_one_loss"
   ]
  },
  {
   "cell_type": "markdown",
   "metadata": {},
   "source": [
    "# Prepare Dataset"
   ]
  },
  {
   "cell_type": "code",
   "execution_count": 84,
   "metadata": {},
   "outputs": [],
   "source": [
    "import gzip, pickle\n",
    "with gzip.open(\"mnist_2_vs_9.gz\") as f:\n",
    "    data = pickle.load(f, encoding=\"bytes\")\n",
    "    Xtrain, Ytrain, Xtest, Ytest, Xdev, Ydev = \\\n",
    "        data[b\"Xtrain\"], data[b\"Ytrain\"], data[b\"Xtest\"], \\\n",
    "        data[b\"Ytest\"], data[b\"Xdev\"], data[b\"Ydev\"]\n",
    "\n",
    "# Preparing Training Dataset\n",
    "Xtrain = torch.tensor(Xtrain)\n",
    "Ytrain = torch.tensor(Ytrain)\n",
    "train = torch.utils.data.TensorDataset(Xtrain, Ytrain)\n",
    "train_loader = DataLoader(train, batch_size = 64, shuffle = False)\n",
    "\n",
    "# Preparing Validation Dataset\n",
    "Xdev = torch.tensor(Xdev)\n",
    "Ydev = torch.tensor(Ydev)\n",
    "dev = torch.utils.data.TensorDataset(Xdev, Ydev)\n",
    "dev_loader = DataLoader(dev, batch_size = 64, shuffle = False)\n",
    "\n",
    "# Preparing Test Dataset\n",
    "Xtest = torch.tensor(Xtest)\n",
    "Ytest = torch.tensor(Ytest)\n",
    "test = torch.utils.data.TensorDataset(Xtest, Ytest)\n",
    "test_loader = DataLoader(test, batch_size=64 ,shuffle = False)\n",
    "\n",
    "\n",
    "# train_loader is like a dictionary like this:\n",
    "# [ \n",
    "#   [batch 1 : [features, labels] ] \n",
    "#   [batch 2 : [features, labels] ] \n",
    "#   [etc.,                        ] ]"
   ]
  },
  {
   "cell_type": "markdown",
   "metadata": {},
   "source": [
    "# Define Network"
   ]
  },
  {
   "cell_type": "code",
   "execution_count": 85,
   "metadata": {},
   "outputs": [],
   "source": [
    "#Define Class Network for ANN\n",
    "class Network(nn.Module):\n",
    "\t\n",
    "\tdef __init__(self):\n",
    "\t\tsuper(Network, self).__init__()\n",
    "\t\tself.fc1 = nn.Linear(784, 100)\n",
    "\t\tself.fc2 = nn.Linear(100, 2)\n",
    "\t\tself.drop = nn.Dropout(p=0.5) #probability that a neuron will be zeroed\n",
    "\n",
    "\tdef forward(self, x):\n",
    "\t\tx = self.fc1(x)\n",
    "\t\tx = self.drop(x)\n",
    "\t\tx = torch.sigmoid(x)\n",
    "\t\tx = self.fc2(x)\n",
    "\t\treturn x\n",
    "\n",
    "# Initialize Network Object\n",
    "model = Network()\n",
    "\n",
    "# Loss Object\n",
    "error = nn.CrossEntropyLoss()\n",
    "\n",
    "learning_rate = 0.002\n",
    "epochs = 100\n",
    "optimizer = torch.optim.SGD(model.parameters(), lr=learning_rate)"
   ]
  },
  {
   "cell_type": "markdown",
   "metadata": {},
   "source": [
    "# Train the Network"
   ]
  },
  {
   "cell_type": "code",
   "execution_count": 88,
   "metadata": {},
   "outputs": [
    {
     "name": "stdout",
     "output_type": "stream",
     "text": [
      "epoch: 0  Loss: 0.6707589626312256  Accuracy: 72.21937561035156 %\n"
     ]
    },
    {
     "ename": "KeyboardInterrupt",
     "evalue": "",
     "output_type": "error",
     "traceback": [
      "\u001b[1;31m---------------------------------------------------------------------------\u001b[0m",
      "\u001b[1;31mKeyboardInterrupt\u001b[0m                         Traceback (most recent call last)",
      "\u001b[1;32m~\\AppData\\Local\\Temp/ipykernel_11760/2522197244.py\u001b[0m in \u001b[0;36m<module>\u001b[1;34m\u001b[0m\n\u001b[0;32m     31\u001b[0m \u001b[1;33m\u001b[0m\u001b[0m\n\u001b[0;32m     32\u001b[0m         \u001b[1;31m# clear gradients\u001b[0m\u001b[1;33m\u001b[0m\u001b[1;33m\u001b[0m\u001b[0m\n\u001b[1;32m---> 33\u001b[1;33m         \u001b[0moptimizer\u001b[0m\u001b[1;33m.\u001b[0m\u001b[0mzero_grad\u001b[0m\u001b[1;33m(\u001b[0m\u001b[1;33m)\u001b[0m\u001b[1;33m\u001b[0m\u001b[1;33m\u001b[0m\u001b[0m\n\u001b[0m\u001b[0;32m     34\u001b[0m \u001b[1;33m\u001b[0m\u001b[0m\n\u001b[0;32m     35\u001b[0m         \u001b[1;31m# forward pass\u001b[0m\u001b[1;33m\u001b[0m\u001b[1;33m\u001b[0m\u001b[0m\n",
      "\u001b[1;32mc:\\Users\\pdsomu\\anaconda3\\lib\\site-packages\\torch\\optim\\optimizer.py\u001b[0m in \u001b[0;36mzero_grad\u001b[1;34m(self, set_to_none)\u001b[0m\n\u001b[0;32m    265\u001b[0m         \u001b[1;32mif\u001b[0m \u001b[0mforeach\u001b[0m\u001b[1;33m:\u001b[0m\u001b[1;33m\u001b[0m\u001b[1;33m\u001b[0m\u001b[0m\n\u001b[0;32m    266\u001b[0m             \u001b[0mper_device_and_dtype_grads\u001b[0m \u001b[1;33m=\u001b[0m \u001b[0mdefaultdict\u001b[0m\u001b[1;33m(\u001b[0m\u001b[1;32mlambda\u001b[0m\u001b[1;33m:\u001b[0m \u001b[0mdefaultdict\u001b[0m\u001b[1;33m(\u001b[0m\u001b[0mlist\u001b[0m\u001b[1;33m)\u001b[0m\u001b[1;33m)\u001b[0m\u001b[1;33m\u001b[0m\u001b[1;33m\u001b[0m\u001b[0m\n\u001b[1;32m--> 267\u001b[1;33m         \u001b[1;32mwith\u001b[0m \u001b[0mtorch\u001b[0m\u001b[1;33m.\u001b[0m\u001b[0mautograd\u001b[0m\u001b[1;33m.\u001b[0m\u001b[0mprofiler\u001b[0m\u001b[1;33m.\u001b[0m\u001b[0mrecord_function\u001b[0m\u001b[1;33m(\u001b[0m\u001b[0mself\u001b[0m\u001b[1;33m.\u001b[0m\u001b[0m_zero_grad_profile_name\u001b[0m\u001b[1;33m)\u001b[0m\u001b[1;33m:\u001b[0m\u001b[1;33m\u001b[0m\u001b[1;33m\u001b[0m\u001b[0m\n\u001b[0m\u001b[0;32m    268\u001b[0m             \u001b[1;32mfor\u001b[0m \u001b[0mgroup\u001b[0m \u001b[1;32min\u001b[0m \u001b[0mself\u001b[0m\u001b[1;33m.\u001b[0m\u001b[0mparam_groups\u001b[0m\u001b[1;33m:\u001b[0m\u001b[1;33m\u001b[0m\u001b[1;33m\u001b[0m\u001b[0m\n\u001b[0;32m    269\u001b[0m                 \u001b[1;32mfor\u001b[0m \u001b[0mp\u001b[0m \u001b[1;32min\u001b[0m \u001b[0mgroup\u001b[0m\u001b[1;33m[\u001b[0m\u001b[1;34m'params'\u001b[0m\u001b[1;33m]\u001b[0m\u001b[1;33m:\u001b[0m\u001b[1;33m\u001b[0m\u001b[1;33m\u001b[0m\u001b[0m\n",
      "\u001b[1;32mc:\\Users\\pdsomu\\anaconda3\\lib\\site-packages\\torch\\autograd\\profiler.py\u001b[0m in \u001b[0;36m__enter__\u001b[1;34m(self)\u001b[0m\n\u001b[0;32m    486\u001b[0m \u001b[1;33m\u001b[0m\u001b[0m\n\u001b[0;32m    487\u001b[0m     \u001b[1;32mdef\u001b[0m \u001b[0m__enter__\u001b[0m\u001b[1;33m(\u001b[0m\u001b[0mself\u001b[0m\u001b[1;33m)\u001b[0m\u001b[1;33m:\u001b[0m\u001b[1;33m\u001b[0m\u001b[1;33m\u001b[0m\u001b[0m\n\u001b[1;32m--> 488\u001b[1;33m         \u001b[0mself\u001b[0m\u001b[1;33m.\u001b[0m\u001b[0mhandle\u001b[0m \u001b[1;33m=\u001b[0m \u001b[0mtorch\u001b[0m\u001b[1;33m.\u001b[0m\u001b[0mops\u001b[0m\u001b[1;33m.\u001b[0m\u001b[0mprofiler\u001b[0m\u001b[1;33m.\u001b[0m\u001b[0m_record_function_enter\u001b[0m\u001b[1;33m(\u001b[0m\u001b[0mself\u001b[0m\u001b[1;33m.\u001b[0m\u001b[0mname\u001b[0m\u001b[1;33m,\u001b[0m \u001b[0mself\u001b[0m\u001b[1;33m.\u001b[0m\u001b[0margs\u001b[0m\u001b[1;33m)\u001b[0m\u001b[1;33m\u001b[0m\u001b[1;33m\u001b[0m\u001b[0m\n\u001b[0m\u001b[0;32m    489\u001b[0m         \u001b[1;32mreturn\u001b[0m \u001b[0mself\u001b[0m\u001b[1;33m\u001b[0m\u001b[1;33m\u001b[0m\u001b[0m\n\u001b[0;32m    490\u001b[0m \u001b[1;33m\u001b[0m\u001b[0m\n",
      "\u001b[1;32mc:\\Users\\pdsomu\\anaconda3\\lib\\site-packages\\torch\\_ops.py\u001b[0m in \u001b[0;36m__call__\u001b[1;34m(self, *args, **kwargs)\u001b[0m\n\u001b[0;32m    440\u001b[0m         \u001b[1;31m# We save the function ptr as the `op` attribute on\u001b[0m\u001b[1;33m\u001b[0m\u001b[1;33m\u001b[0m\u001b[0m\n\u001b[0;32m    441\u001b[0m         \u001b[1;31m# OpOverloadPacket to access it here.\u001b[0m\u001b[1;33m\u001b[0m\u001b[1;33m\u001b[0m\u001b[0m\n\u001b[1;32m--> 442\u001b[1;33m         \u001b[1;32mreturn\u001b[0m \u001b[0mself\u001b[0m\u001b[1;33m.\u001b[0m\u001b[0m_op\u001b[0m\u001b[1;33m(\u001b[0m\u001b[1;33m*\u001b[0m\u001b[0margs\u001b[0m\u001b[1;33m,\u001b[0m \u001b[1;33m**\u001b[0m\u001b[0mkwargs\u001b[0m \u001b[1;32mor\u001b[0m \u001b[1;33m{\u001b[0m\u001b[1;33m}\u001b[0m\u001b[1;33m)\u001b[0m\u001b[1;33m\u001b[0m\u001b[1;33m\u001b[0m\u001b[0m\n\u001b[0m\u001b[0;32m    443\u001b[0m \u001b[1;33m\u001b[0m\u001b[0m\n\u001b[0;32m    444\u001b[0m     \u001b[1;31m# TODO: use this to make a __dir__\u001b[0m\u001b[1;33m\u001b[0m\u001b[1;33m\u001b[0m\u001b[0m\n",
      "\u001b[1;31mKeyboardInterrupt\u001b[0m: "
     ]
    }
   ],
   "source": [
    "training_loss = []\n",
    "validation_loss = []\n",
    "validation_accuracy = []\n",
    "zero_one_error = {\n",
    "    'train' : [],\n",
    "    'val' : []\n",
    "}\n",
    "iterations = []\n",
    "count=0\n",
    "\n",
    "for epoch in range(epochs):\n",
    "\n",
    "    # Training will run for epoch = 100 cycles.\n",
    "    # Each cycle consists of all batches in the training set.\n",
    "    # For each batch, we perform forward and back propagation to compute loss and update parameters.\n",
    "    \n",
    "    for i, (features, labels) in enumerate(train_loader):\n",
    "    \n",
    "        '''     i                         -> Batch number\n",
    "                features                  -> Training features\n",
    "                labels                    -> Training labels.\n",
    "                train_loader              -> Tensor dataset with all batches.\n",
    "                epochs                    -> 100\n",
    "                batch_size                -> 64\n",
    "                number of batches         -> 155\n",
    "                Total training examples   -> 9956\n",
    "                Model                     -> ANN with 1 hidden layer(s).\n",
    "                Activation                -> Sigmoid.\n",
    "                LOSS                      -> Cross Entropy Loss Function.\n",
    "                Learning_rate             -> 0.001                          '''\n",
    "        \n",
    "        # clear gradients\n",
    "        optimizer.zero_grad()\n",
    "    \n",
    "        # forward pass\n",
    "        predicted = model(features)\n",
    "    \n",
    "        # calculate loss\n",
    "        loss = error(predicted, labels)\n",
    "    \n",
    "        # backward pass\n",
    "        loss.backward()\n",
    "    \n",
    "        # update parameters\n",
    "        optimizer.step()\n",
    "        \n",
    "        count += 1\n",
    "    \n",
    "        # for every 30 batches the model sees, predict validation set to test the network & choose optimal hyperparameters.\n",
    "        if count % 30 == 0:\n",
    "        \n",
    "            correct = 0\n",
    "            total = 0\n",
    "        \n",
    "            for val_features, val_labels in dev_loader:\n",
    "            \n",
    "                # Forward propagation\n",
    "                outputs = model(val_features)\n",
    "                \n",
    "                # calculate loss for validation set\n",
    "                val_loss = error(outputs, val_labels)\n",
    "                \n",
    "                # Get predictions from the maximum value.\n",
    "                val_pred = torch.max(outputs.data, 1)[1]\n",
    "                \n",
    "                ''' * outputs.data will have the values(weights[0] & labels[1]) of neurons in the output layer. \n",
    "                        i.e., the predictions for each neuron.\n",
    "                    * torch.max() returns the maximum value(i.e., the max. probability) of a neuron.\n",
    "                    * torch.max(x, 1) returns the maximum value accross all features(or neurons) in a training example \n",
    "                        as the prediction class for that record.\n",
    "                    * example here the output layer consists of 2 neurons, \n",
    "                    * so for an example, it'll generate the max value of those 2 as the predicted class and weights. '''\n",
    "                \n",
    "                # Total number of labels\n",
    "                total += len(val_labels) # adding len(labels) from each batch\n",
    "\n",
    "                # Total correct predictions\n",
    "                correct += (val_pred == val_labels).sum()\n",
    "            \n",
    "            accuracy = 100 * correct / float(total)\n",
    "        \n",
    "            training_loss.append(loss.data)\n",
    "            validation_loss.append(val_loss.data)\n",
    "            validation_accuracy.append(accuracy)\n",
    "            iterations.append(count)\n",
    "        \n",
    "    # for every 10 epoch cycles, Print Training Loss & Accuracy of validation set.\n",
    "    if epoch % 10 == 0:\n",
    "        # Print Loss\n",
    "        print('epoch: {}  Loss: {}  Accuracy: {} %'.format(epoch, loss.data, accuracy))\n"
   ]
  },
  {
   "cell_type": "markdown",
   "metadata": {},
   "source": [
    "# Plots"
   ]
  },
  {
   "cell_type": "code",
   "execution_count": 80,
   "metadata": {},
   "outputs": [
    {
     "data": {
      "image/png": "[encoded data removed]",
      "text/plain": [
       "<Figure size 432x288 with 1 Axes>"
      ]
     },
     "metadata": {
      "needs_background": "light"
     },
     "output_type": "display_data"
    },
    {
     "data": {
      "text/plain": [
       "'\\n# visualization accuracy \\nplt.plot(iterations,training_loss, color = \"red\", label = \"Training error\")\\nplt.plot(iterations,validation_loss, color = \"green\", label = \"Validation error\")\\nplt.legend()\\nplt.xlabel(\"Number of iterations\")\\nplt.ylabel(\"Accuracy\")\\nplt.title(\"ANN: Accuracy vs Number of iterations\")\\nplt.show()'"
      ]
     },
     "execution_count": 80,
     "metadata": {},
     "output_type": "execute_result"
    }
   ],
   "source": [
    "# visualization loss \n",
    "plt.plot(iterations,training_loss, color = \"red\", label = \"Training error\")\n",
    "plt.plot(iterations,validation_loss, color = \"green\", label = \"Validation error\")\n",
    "plt.legend()\n",
    "plt.xlabel(\"Number of iterations\")\n",
    "plt.ylabel(\"Cross Entropy Loss\")\n",
    "plt.title(\"ANN: Loss vs Number of iterations\")\n",
    "plt.show()\n",
    "\n",
    "'''\n",
    "# visualization accuracy \n",
    "plt.plot(iterations,training_loss, color = \"red\", label = \"Training error\")\n",
    "plt.plot(iterations,validation_loss, color = \"green\", label = \"Validation error\")\n",
    "plt.legend()\n",
    "plt.xlabel(\"Number of iterations\")\n",
    "plt.ylabel(\"Accuracy\")\n",
    "plt.title(\"ANN: Accuracy vs Number of iterations\")\n",
    "plt.show()'''\n"
   ]
  },
  {
   "cell_type": "markdown",
   "metadata": {},
   "source": [
    "# Predict Test Data"
   ]
  },
  {
   "cell_type": "code",
   "execution_count": 81,
   "metadata": {},
   "outputs": [
    {
     "name": "stdout",
     "output_type": "stream",
     "text": [
      "Test Accuracy: 98.04017639160156 %\n"
     ]
    }
   ],
   "source": [
    "# Predicting Test Data\n",
    "tot = crt = acc = 0\n",
    "for features, labels in test_loader:\n",
    "    output = model(features)\n",
    "    predicted = torch.max(output.data, 1)[1]\n",
    "    tot += len(labels)     \n",
    "    crt += (predicted == labels).sum()\n",
    "\n",
    "acc = 100 * crt / float(tot)\n",
    "print(\"Test Accuracy: {} %\".format(acc))"
   ]
  }
 ],
 "metadata": {
  "kernelspec": {
   "display_name": "Python 3.9.7 ('base')",
   "language": "python",
   "name": "python3"
  },
  "language_info": {
   "codemirror_mode": {
    "name": "ipython",
    "version": 3
   },
   "file_extension": ".py",
   "mimetype": "text/x-python",
   "name": "python",
   "nbconvert_exporter": "python",
   "pygments_lexer": "ipython3",
   "version": "3.9.7"
  },
  "orig_nbformat": 4,
  "vscode": {
   "interpreter": {
    "hash": "3d7d9ac54bf76cc39eb49b9f1ecf926c6787e86c2a5e76c485bdd32284c11a5e"
   }
  }
 },
 "nbformat": 4,
 "nbformat_minor": 2
}

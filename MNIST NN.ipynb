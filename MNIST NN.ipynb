{
 "cells": [
  {
   "cell_type": "markdown",
   "metadata": {},
   "source": [
    "# Imports & Load Data"
   ]
  },
  {
   "cell_type": "code",
   "execution_count": 24,
   "metadata": {},
   "outputs": [],
   "source": [
    "import matplotlib.pyplot as plt\n",
    "import torch\n",
    "import torch.nn as nn\n",
    "from torch.utils.data import DataLoader"
   ]
  },
  {
   "cell_type": "markdown",
   "metadata": {},
   "source": [
    "# Prepare Dataset"
   ]
  },
  {
   "cell_type": "code",
   "execution_count": 25,
   "metadata": {},
   "outputs": [],
   "source": [
    "import gzip, pickle\n",
    "with gzip.open(\"mnist_2_vs_9.gz\") as f:\n",
    "    data = pickle.load(f, encoding=\"bytes\")\n",
    "    Xtrain, Ytrain, Xtest, Ytest, Xdev, Ydev = \\\n",
    "        data[b\"Xtrain\"], data[b\"Ytrain\"], data[b\"Xtest\"], \\\n",
    "        data[b\"Ytest\"], data[b\"Xdev\"], data[b\"Ydev\"]\n",
    "\n",
    "# Preparing Training Dataset\n",
    "Xtrain = torch.tensor(Xtrain)\n",
    "Ytrain = torch.tensor(Ytrain)\n",
    "train = torch.utils.data.TensorDataset(Xtrain, Ytrain)\n",
    "train_loader = DataLoader(train, batch_size = 64, shuffle = False)\n",
    "\n",
    "# Preparing Validation Dataset\n",
    "Xdev = torch.tensor(Xdev)\n",
    "Ydev = torch.tensor(Ydev)\n",
    "dev = torch.utils.data.TensorDataset(Xdev, Ydev)\n",
    "dev_loader = DataLoader(dev, batch_size = 64, shuffle = False)\n",
    "\n",
    "# Preparing Test Dataset\n",
    "Xtest = torch.tensor(Xtest)\n",
    "Ytest = torch.tensor(Ytest)\n",
    "test = torch.utils.data.TensorDataset(Xtest, Ytest)\n",
    "test_loader = DataLoader(test, batch_size=64 ,shuffle = False)\n",
    "\n",
    "\n",
    "# train_loader is like a dictionary like this:\n",
    "# [ \n",
    "#   [batch 1 : [features, labels] ] \n",
    "#   [batch 2 : [features, labels] ] \n",
    "#   [etc.,                        ] ]"
   ]
  },
  {
   "cell_type": "markdown",
   "metadata": {},
   "source": [
    "# Define Network"
   ]
  },
  {
   "cell_type": "code",
   "execution_count": 26,
   "metadata": {},
   "outputs": [],
   "source": [
    "#Define Class Network for ANN\n",
    "class Network(nn.Module):\n",
    "\t\n",
    "\tdef __init__(self):\n",
    "\t\tsuper(Network, self).__init__()\n",
    "\t\tself.fc1 = nn.Linear(784, 100)\n",
    "\t\tself.fc2 = nn.Linear(100, 2)\n",
    "\t\tself.drop = nn.Dropout(p=0.5) #probability that a neuron will be zeroed\n",
    "\n",
    "\tdef forward(self, x):\n",
    "\t\tx = self.fc1(x)\n",
    "\t\tx = self.drop(x)\n",
    "\t\tx = torch.sigmoid(x)\n",
    "\t\tx = self.fc2(x)\n",
    "\t\treturn x\n",
    "\n",
    "# Initialize Network Object\n",
    "model = Network()\n",
    "\n",
    "# Loss Object\n",
    "error = nn.CrossEntropyLoss()\n",
    "\n",
    "learning_rate = 0.002\n",
    "epochs = 25\n",
    "optimizer = torch.optim.SGD(model.parameters(), lr=learning_rate)"
   ]
  },
  {
   "cell_type": "markdown",
   "metadata": {},
   "source": [
    "# Train the Network"
   ]
  },
  {
   "cell_type": "code",
   "execution_count": 27,
   "metadata": {},
   "outputs": [
    {
     "name": "stdout",
     "output_type": "stream",
     "text": [
      "epoch: 0  Loss: 0.6890  Accuracy: 74.680 %\n",
      "epoch: 5  Loss: 0.0933  Accuracy: 95.900 %\n",
      "epoch: 10  Loss: 0.0381  Accuracy: 97.130 %\n",
      "epoch: 15  Loss: 0.0184  Accuracy: 97.078 %\n",
      "epoch: 20  Loss: 0.0103  Accuracy: 97.232 %\n"
     ]
    }
   ],
   "source": [
    "training_loss = []\n",
    "validation_loss = []\n",
    "validation_accuracy = []\n",
    "iterations = []\n",
    "#batches = int(len(Xtrain) / 64) + 1\n",
    "count=0\n",
    "\n",
    "for epoch in range(epochs):\n",
    "\n",
    "    # Training will run for epoch = 100 cycles.\n",
    "    # Each cycle consists of all batches in the training set.\n",
    "    # For each batch, we perform forward and back propagation to compute loss and update parameters.\n",
    "    \n",
    "    train_loss = 0\n",
    "    \n",
    "    for i, (features, labels) in enumerate(train_loader):\n",
    "    \n",
    "        '''     i                         -> Batch number\n",
    "                features                  -> Training features\n",
    "                labels                    -> Training labels.\n",
    "                train_loader              -> Tensor dataset with all batches.\n",
    "                epochs                    -> 100\n",
    "                batch_size                -> 64\n",
    "                number of batches         -> 155\n",
    "                Total training examples   -> 9956\n",
    "                Model                     -> ANN with 1 hidden layer(s).\n",
    "                Activation                -> Sigmoid.\n",
    "                LOSS                      -> Cross Entropy Loss Function.\n",
    "                Learning_rate             -> 0.001                          '''\n",
    "        \n",
    "        # clear gradients\n",
    "        optimizer.zero_grad()\n",
    "    \n",
    "        # forward pass\n",
    "        predicted = model(features)\n",
    "    \n",
    "        # calculate loss\n",
    "        loss = error(predicted, labels)\n",
    "        train_loss += loss.data\n",
    "    \n",
    "        # backward pass\n",
    "        loss.backward()\n",
    "    \n",
    "        # update parameters\n",
    "        optimizer.step()\n",
    "        \n",
    "        count += 1\n",
    "    \n",
    "        # for every 30 batches the model sees, predict validation set to test the network & choose optimal hyperparameters.\n",
    "        if count % 30 == 0:\n",
    "        \n",
    "            correct = 0\n",
    "            total = 0\n",
    "            val_loss = 0\n",
    "            val_count = 0\n",
    "        \n",
    "            for val_features, val_labels in dev_loader:\n",
    "            \n",
    "                # Forward propagation\n",
    "                outputs = model(val_features)\n",
    "                \n",
    "                # calculate loss for validation set\n",
    "                val_loss += error(outputs, val_labels).data\n",
    "                \n",
    "                # Get predictions from the maximum value.\n",
    "                val_pred = torch.max(outputs.data, 1)[1]\n",
    "                \n",
    "                ''' * outputs.data will have the values(weights[0] & labels[1]) of neurons in the output layer. \n",
    "                        i.e., the predictions for each neuron.\n",
    "                    * torch.max() returns the maximum value(i.e., the max. probability) of a neuron.\n",
    "                    * torch.max(x, 1) returns the maximum value accross all features(or neurons) in a training example \n",
    "                        as the prediction class for that record.\n",
    "                    * example here the output layer consists of 2 neurons, \n",
    "                    * so for an example, it'll generate the max value of those 2 as the predicted class and weights. '''\n",
    "                \n",
    "                # Total number of labels\n",
    "                total += len(val_labels) # adding len(labels) from each batch\n",
    "\n",
    "                # Total correct predictions\n",
    "                correct += (val_pred == val_labels).sum()\n",
    "                \n",
    "                val_count += 1\n",
    "            \n",
    "            accuracy = 100 * correct / float(total)\n",
    "            avg_training_loss = train_loss / count\n",
    "            avg_val_loss = val_loss / val_count\n",
    "        \n",
    "            training_loss.append(avg_training_loss)\n",
    "            validation_loss.append(avg_val_loss)\n",
    "            validation_accuracy.append(accuracy)\n",
    "            iterations.append(count)\n",
    "        \n",
    "    # for every 10 epoch cycles, Print Training Loss & Accuracy of validation set.\n",
    "    if epoch % 5 == 0:\n",
    "        # Print Loss\n",
    "        print('epoch: {}  Loss: {:.4f}  Accuracy: {:.3f} %'.format(epoch, avg_training_loss, accuracy))\n"
   ]
  },
  {
   "cell_type": "markdown",
   "metadata": {},
   "source": [
    "# Plots"
   ]
  },
  {
   "cell_type": "code",
   "execution_count": 28,
   "metadata": {},
   "outputs": [
    {
     "data": {
      "image/png": "[encoded data removed]",
      "text/plain": [
       "<Figure size 432x288 with 1 Axes>"
      ]
     },
     "metadata": {
      "needs_background": "light"
     },
     "output_type": "display_data"
    }
   ],
   "source": [
    "# visualization loss \n",
    "plt.plot(iterations,training_loss, color = \"red\", label = \"Training error\")\n",
    "plt.plot(iterations,validation_loss, color = \"green\", label = \"Validation error\")\n",
    "plt.legend()\n",
    "plt.xlabel(\"Number of iterations\")\n",
    "plt.ylabel(\"Cross Entropy Loss\")\n",
    "plt.title(\"ANN: Loss vs Number of iterations\")\n",
    "plt.show()\n",
    "\n",
    "\n",
    "# visualization accuracy \n",
    "#plt.plot(iterations[12:],validation_accuracy[12:])\n",
    "#plt.xlabel(\"Number of iterations\")\n",
    "#plt.ylabel(\"Accuracy\")\n",
    "#plt.title(\"ANN: Accuracy vs Number of iterations\")\n",
    "#plt.show()\n"
   ]
  },
  {
   "cell_type": "markdown",
   "metadata": {},
   "source": [
    "# Predict Test Data"
   ]
  },
  {
   "cell_type": "code",
   "execution_count": 29,
   "metadata": {},
   "outputs": [
    {
     "name": "stdout",
     "output_type": "stream",
     "text": [
      "Average Test error: 0.16843250393867493   Test Accuracy: 97.15825653076172 %\n"
     ]
    }
   ],
   "source": [
    "# Predicting Test Data\n",
    "tot = crt = acc = test_loss = count = 0\n",
    "for features, labels in test_loader:\n",
    "    output = model(features)\n",
    "    test_loss += error(output, labels)\n",
    "    predicted = torch.max(output.data, 1)[1]\n",
    "    tot += len(labels)\n",
    "    crt += (predicted == labels).sum()\n",
    "    count += 1\n",
    "\n",
    "avg_loss = test_loss / count\n",
    "acc = 100 * crt / float(tot)\n",
    "print(\"Average Test error: {}   Test Accuracy: {} %\".format(avg_loss, acc))"
   ]
  }
 ],
 "metadata": {
  "kernelspec": {
   "display_name": "Python 3.9.7 ('base')",
   "language": "python",
   "name": "python3"
  },
  "language_info": {
   "codemirror_mode": {
    "name": "ipython",
    "version": 3
   },
   "file_extension": ".py",
   "mimetype": "text/x-python",
   "name": "python",
   "nbconvert_exporter": "python",
   "pygments_lexer": "ipython3",
   "version": "3.9.7"
  },
  "orig_nbformat": 4,
  "vscode": {
   "interpreter": {
    "hash": "3d7d9ac54bf76cc39eb49b9f1ecf926c6787e86c2a5e76c485bdd32284c11a5e"
   }
  }
 },
 "nbformat": 4,
 "nbformat_minor": 2
}

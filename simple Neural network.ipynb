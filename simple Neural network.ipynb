{
 "cells": [
  {
   "cell_type": "markdown",
   "metadata": {},
   "source": [
    "# Imports"
   ]
  },
  {
   "cell_type": "code",
   "execution_count": 61,
   "metadata": {},
   "outputs": [],
   "source": [
    "import torch\n",
    "import torch.nn as nn\n",
    "from torch.autograd import Variable\n",
    "from torch.utils.data import DataLoader\n",
    "import pandas as pd\n",
    "import numpy as np\n",
    "from sklearn.model_selection import train_test_split\n",
    "import matplotlib.pyplot as plt"
   ]
  },
  {
   "cell_type": "markdown",
   "metadata": {},
   "source": [
    "# Prepare Dataset"
   ]
  },
  {
   "cell_type": "code",
   "execution_count": 65,
   "metadata": {},
   "outputs": [],
   "source": [
    "# Prepare Dataset\n",
    "# load data\n",
    "train = pd.read_csv(r\"train.csv\",dtype = np.float32) #42000 rows with 784 features and 1 target label\n",
    "\n",
    "# split data into features(pixels) and labels(numbers from 0 to 9)\n",
    "targets_numpy = train.label.values #42000 rows\n",
    "features_numpy = train.loc[:,train.columns != \"label\"].values/255 # normalization\n",
    "\n",
    "# train test split. Size of train data is 80% and size of test data is 20%. \n",
    "features_train, features_test, targets_train, targets_test = train_test_split(features_numpy,\n",
    "                                                                            targets_numpy,\n",
    "                                                                            test_size = 0.2,\n",
    "                                                                            random_state = 42) \n",
    "\n",
    "# create feature and targets tensor for train set. As you remember we need variable to accumulate gradients. Therefore first we create tensor, then we will create variable\n",
    "# 33600 rows for training set\n",
    "featuresTrain = torch.tensor(features_train, requires_grad= True)\n",
    "targetsTrain = torch.tensor(targets_train, requires_grad= True).type(torch.LongTensor) # data type is long\n",
    "\n",
    "# create feature and targets tensor for test set.\n",
    "# 8400 rows for test set\n",
    "featuresTest = torch.tensor(features_test, requires_grad= True)\n",
    "targetsTest = torch.tensor(targets_test, requires_grad= True).type(torch.LongTensor) # data type is long\n",
    "\n",
    "# batch_size, epoch and iteration\n",
    "# 100 examples for each batch\n",
    "# len(features_train) -> 33600 training examples\n",
    "# Total number of batches -> 336\n",
    "# epochs -> 1 whole cycle of training and updating parameters for all batches in the training dataset.\n",
    "batch_size = 100\n",
    "n_iters = 10000 # maximum number of iterations for whole code\n",
    "num_epochs = n_iters / (len(features_train) / batch_size) # 10000 / (33600 / 100) = 29.7\n",
    "num_epochs = int(num_epochs) #29\n",
    "\n",
    "# Pytorch train and test sets - objects\n",
    "train = torch.utils.data.TensorDataset(featuresTrain,targetsTrain)\n",
    "test = torch.utils.data.TensorDataset(featuresTest,targetsTest)\n",
    "\n",
    "# data loader - objects\n",
    "train_loader = DataLoader(train, batch_size = batch_size, shuffle = False)\n",
    "test_loader = DataLoader(test, batch_size = batch_size, shuffle = False)\n"
   ]
  },
  {
   "cell_type": "markdown",
   "metadata": {},
   "source": [
    "# Create ANN Model"
   ]
  },
  {
   "cell_type": "code",
   "execution_count": 66,
   "metadata": {},
   "outputs": [],
   "source": [
    "# Create ANN Model\n",
    "class ANNModel(nn.Module):\n",
    "    \n",
    "    def __init__(self, input_dim, hidden_dim, output_dim):\n",
    "        super(ANNModel, self).__init__()\n",
    "        \n",
    "        # Linear function 1: 784 --> 150\n",
    "        self.fc1 = nn.Linear(input_dim, hidden_dim) \n",
    "        # Non-linearity 1\n",
    "        self.relu1 = nn.ReLU()\n",
    "        \n",
    "        # Linear function 2: 150 --> 150\n",
    "        self.fc2 = nn.Linear(hidden_dim, hidden_dim)\n",
    "        # Non-linearity 2\n",
    "        self.tanh2 = nn.Tanh()\n",
    "        \n",
    "        # Linear function 3: 150 --> 150\n",
    "        self.fc3 = nn.Linear(hidden_dim, hidden_dim)\n",
    "        # Non-linearity 3\n",
    "        self.elu3 = nn.ELU()\n",
    "        \n",
    "        # Linear function 4 (readout): 150 --> 10\n",
    "        self.fc4 = nn.Linear(hidden_dim, output_dim)  \n",
    "    \n",
    "    def forward(self, x):\n",
    "        # Linear function 1\n",
    "        out = self.fc1(x)\n",
    "        # Non-linearity 1\n",
    "        out = self.relu1(out)\n",
    "        \n",
    "        # Linear function 2\n",
    "        out = self.fc2(out)\n",
    "        # Non-linearity 2\n",
    "        out = self.tanh2(out)\n",
    "        \n",
    "        # Linear function 3\n",
    "        out = self.fc3(out)\n",
    "        # Non-linearity 3\n",
    "        out = self.elu3(out)\n",
    "        \n",
    "        # Linear function 4 (readout)\n",
    "        out = self.fc4(out)\n",
    "        return out\n",
    "\n",
    "# instantiate ANN\n",
    "input_dim = 28*28 # 784 input neurons\n",
    "hidden_dim = 150 # 150 neurons for each hidden layer\n",
    "output_dim = 10 # 10 output neurons\n",
    "\n",
    "# Create ANN object\n",
    "model = ANNModel(input_dim, hidden_dim, output_dim)\n",
    "\n",
    "# Cross Entropy Loss object\n",
    "error = nn.CrossEntropyLoss()\n",
    "\n",
    "# SGD Optimizer object\n",
    "learning_rate = 0.02\n",
    "optimizer = torch.optim.SGD(model.parameters(), lr=learning_rate)"
   ]
  },
  {
   "cell_type": "markdown",
   "metadata": {},
   "source": [
    "# Train the Model"
   ]
  },
  {
   "cell_type": "code",
   "execution_count": 70,
   "metadata": {},
   "outputs": [
    {
     "name": "stdout",
     "output_type": "stream",
     "text": [
      "Iteration: 500  Loss: 0.7442542910575867  Accuracy: 79.10713958740234 %\n",
      "Iteration: 1000  Loss: 0.4796392321586609  Accuracy: 87.73809814453125 %\n",
      "Iteration: 1500  Loss: 0.22009025514125824  Accuracy: 89.67857360839844 %\n",
      "Iteration: 2000  Loss: 0.289392352104187  Accuracy: 90.77381134033203 %\n",
      "Iteration: 2500  Loss: 0.2871875464916229  Accuracy: 92.02381134033203 %\n",
      "Iteration: 3000  Loss: 0.11839267611503601  Accuracy: 92.94047546386719 %\n",
      "Iteration: 3500  Loss: 0.2673879563808441  Accuracy: 93.5952377319336 %\n",
      "Iteration: 4000  Loss: 0.059466563165187836  Accuracy: 94.02381134033203 %\n",
      "Iteration: 4500  Loss: 0.31288811564445496  Accuracy: 94.4047622680664 %\n",
      "Iteration: 5000  Loss: 0.10666326433420181  Accuracy: 94.58333587646484 %\n",
      "Iteration: 5500  Loss: 0.18090324103832245  Accuracy: 94.79762268066406 %\n",
      "Iteration: 6000  Loss: 0.17860117554664612  Accuracy: 95.05952453613281 %\n",
      "Iteration: 6500  Loss: 0.0901089683175087  Accuracy: 95.45237731933594 %\n",
      "Iteration: 7000  Loss: 0.11291514337062836  Accuracy: 95.75 %\n",
      "Iteration: 7500  Loss: 0.12127215415239334  Accuracy: 95.88095092773438 %\n",
      "Iteration: 8000  Loss: 0.17356081306934357  Accuracy: 95.9047622680664 %\n",
      "Iteration: 8500  Loss: 0.06046852096915245  Accuracy: 96.01190185546875 %\n",
      "Iteration: 9000  Loss: 0.0478844940662384  Accuracy: 96.14286041259766 %\n",
      "Iteration: 9500  Loss: 0.020783502608537674  Accuracy: 96.19047546386719 %\n"
     ]
    }
   ],
   "source": [
    "# ANN model training\n",
    "count = 0\n",
    "loss_list = []\n",
    "iteration_list = []\n",
    "accuracy_list = []\n",
    "\n",
    "for epoch in range(num_epochs): #num_epochs = 29\n",
    "    \n",
    "    # for every epoch: \n",
    "    # -> model runs trainings and update 336 batches (batch_size=100, training_size=33600)\n",
    "    \n",
    "    for i, (images, labels) in enumerate(train_loader):\n",
    "        \n",
    "        # batch_size    -> 100\n",
    "        # i             -> i-th batch\n",
    "        # images        -> 100 training examples, i.e., one batch of features\n",
    "        # labels        -> 100 training labels, i.e., one batch of labels\n",
    "\n",
    "        train = Variable(images.view(-1, 28*28))\n",
    "        #train = images.view(-1, 28*28)\n",
    "        labels = Variable(labels)\n",
    "        \n",
    "        # Clear gradients\n",
    "        # optimizer.zero_grad() clears x.grad for every parameter x in the optimizer. \n",
    "        # It’s important to call this before loss.backward(), otherwise you’ll accumulate the gradients from multiple passes.\n",
    "        optimizer.zero_grad()\n",
    "        \n",
    "        # Forward propagation\n",
    "        outputs = model(train)\n",
    "        \n",
    "        # Calculate softmax and cross entropy loss\n",
    "        loss = error(outputs, labels)\n",
    "        \n",
    "        # Calculating gradients\n",
    "        # loss.backward() computes dloss/dx for every parameter x which has requires_grad=True. \n",
    "        # These are accumulated into x.grad for every parameter x.\n",
    "        # In pseudo-code: x.grad += dloss/dx\n",
    "        loss.backward()\n",
    "        \n",
    "        # Update parameters\n",
    "        # optimizer.step updates the value of x using the gradient x.grad. For example, the SGD optimizer performs:\n",
    "        # x += -lr * x.grad\n",
    "        optimizer.step()\n",
    "        \n",
    "        count += 1\n",
    "        \n",
    "        if count % 50 == 0:\n",
    "            # Calculate Accuracy         \n",
    "            correct = 0\n",
    "            total = 0\n",
    "            # Predict test dataset\n",
    "            for images, labels in test_loader:\n",
    "\n",
    "                test = Variable(images.view(-1, 28*28))\n",
    "                #test = images.view(-1, 28*28)\n",
    "                \n",
    "                # Forward propagation\n",
    "                outputs = model(test)\n",
    "                \n",
    "                # Get predictions from the maximum value\n",
    "                predicted = torch.max(outputs.data, 1)[1]\n",
    "                \n",
    "                # Total number of labels\n",
    "                total += len(labels)\n",
    "\n",
    "                # Total correct predictions\n",
    "                correct += (predicted == labels).sum()\n",
    "            \n",
    "            accuracy = 100 * correct / float(total)\n",
    "            \n",
    "            # store loss and iteration\n",
    "            loss_list.append(loss.data)\n",
    "            iteration_list.append(count)\n",
    "            accuracy_list.append(accuracy)\n",
    "            \n",
    "        if count % 500 == 0:\n",
    "            # Print Loss\n",
    "            print('Iteration: {}  Loss: {}  Accuracy: {} %'.format(count, loss.data, accuracy))"
   ]
  },
  {
   "cell_type": "markdown",
   "metadata": {},
   "source": [
    "# Plots"
   ]
  },
  {
   "cell_type": "code",
   "execution_count": 9,
   "metadata": {},
   "outputs": [
    {
     "data": {
      "image/png": "[encoded data removed]",
      "text/plain": [
       "<Figure size 432x288 with 1 Axes>"
      ]
     },
     "metadata": {
      "needs_background": "light"
     },
     "output_type": "display_data"
    },
    {
     "data": {
      "image/png": "[encoded data removed]",
      "text/plain": [
       "<Figure size 432x288 with 1 Axes>"
      ]
     },
     "metadata": {
      "needs_background": "light"
     },
     "output_type": "display_data"
    }
   ],
   "source": [
    "# visualization loss \n",
    "plt.plot(iteration_list,loss_list)\n",
    "plt.xlabel(\"Number of iteration\")\n",
    "plt.ylabel(\"Loss\")\n",
    "plt.title(\"ANN: Loss vs Number of iteration\")\n",
    "plt.show()\n",
    "\n",
    "# visualization accuracy \n",
    "plt.plot(iteration_list,accuracy_list,color = \"red\")\n",
    "plt.xlabel(\"Number of iteration\")\n",
    "plt.ylabel(\"Accuracy\")\n",
    "plt.title(\"ANN: Accuracy vs Number of iteration\")\n",
    "plt.show()\n"
   ]
  }
 ],
 "metadata": {
  "kernelspec": {
   "display_name": "Python 3.9.7 ('base')",
   "language": "python",
   "name": "python3"
  },
  "language_info": {
   "codemirror_mode": {
    "name": "ipython",
    "version": 3
   },
   "file_extension": ".py",
   "mimetype": "text/x-python",
   "name": "python",
   "nbconvert_exporter": "python",
   "pygments_lexer": "ipython3",
   "version": "3.9.7"
  },
  "orig_nbformat": 4,
  "vscode": {
   "interpreter": {
    "hash": "3d7d9ac54bf76cc39eb49b9f1ecf926c6787e86c2a5e76c485bdd32284c11a5e"
   }
  }
 },
 "nbformat": 4,
 "nbformat_minor": 2
}
